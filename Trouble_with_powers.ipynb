{
 "cells": [
  {
   "cell_type": "code",
   "execution_count": 1,
   "metadata": {
    "collapsed": true
   },
   "outputs": [],
   "source": [
    "%matplotlib inline\n",
    "import numpy as np\n",
    "import matplotlib.pyplot as plt\n",
    "import math"
   ]
  },
  {
   "cell_type": "markdown",
   "metadata": {},
   "source": [
    "# Проблема"
   ]
  },
  {
   "cell_type": "markdown",
   "metadata": {},
   "source": [
    "В этой лабораторной мы попробуем оценить точность результата вычисления по внешне невинной формуле в арифметике с плавающей запятой. \n",
    "Обычно делая арифметические операции мы не задумываемся над точностью результата, однако даже одна операция может значительно ухудшить точность.\n",
    "Рассмотрим несколько примеров."
   ]
  },
  {
   "cell_type": "markdown",
   "metadata": {},
   "source": [
    "Чтобы оценить точность вычислений, нам необходимо знать точный ответ.\n",
    "Так как мы только хотим проиллюстрировать одну из проблем с потерей точности,\n",
    "то мы можем сами сконструировать формулу так, чтобы точных ответ был заранее известен.\n",
    "Мы будем вычислять значение функции, которая эквивалента в точной арифметике тождественному преобразованию, т.е. точный результат вычисления фукнции совпадает с аргументом функции:\n",
    "$$f(x)=x.$$\n",
    "Однако в арифметике с плавающей запятой не все свойства арифметических операций верны,\n",
    "поэтому результат будет получаться с ошибкой.\n",
    "Мы будем вычислять относительную ошибку по обыкновенной формуле:\n",
    "$$\\sigma(x_0,x)=\\frac{|x_0-x|}{|x_0|},$$\n",
    "где $x_0$ - точное значение, а $x$ - приближенное.\n"
   ]
  },
  {
   "cell_type": "code",
   "execution_count": 2,
   "metadata": {
    "collapsed": true
   },
   "outputs": [],
   "source": [
    "def relative_error(x0, x): return np.abs(x0-x)/np.abs(x0)"
   ]
  },
  {
   "cell_type": "markdown",
   "metadata": {},
   "source": [
    "Исходные данные нам даны с точностью представления вещественных чисел числами с плавающей запятой, т.е. с половиной машинной точности.\n",
    "Мы будем проводить вычисления в арифметике двойной точности."
   ]
  },
  {
   "cell_type": "code",
   "execution_count": 3,
   "metadata": {},
   "outputs": [
    {
     "name": "stdout",
     "output_type": "stream",
     "text": [
      "Машинная точность: 2.22044604925e-16\n"
     ]
    }
   ],
   "source": [
    "eps=np.finfo(np.double).eps\n",
    "print(\"Машинная точность:\",eps)"
   ]
  },
  {
   "cell_type": "markdown",
   "metadata": {},
   "source": [
    "Рассмотрим функцию, выполняющую $n$ делений на число $d$, а затем $n$  умножений на $d$.\n",
    "Ясно, что в точной арифметике эта функция не должна изменять аргумент."
   ]
  },
  {
   "cell_type": "code",
   "execution_count": 4,
   "metadata": {
    "collapsed": true
   },
   "outputs": [],
   "source": [
    "def f_div_mult(x, d=np.pi, n=52):\n",
    "    for k in range(n): x=x/d\n",
    "    for k in range(n): x=x*d\n",
    "    return x"
   ]
  },
  {
   "cell_type": "markdown",
   "metadata": {},
   "source": [
    "Создадим набор тестовых значений и проверим точность вычислений на этом наборе."
   ]
  },
  {
   "cell_type": "code",
   "execution_count": 5,
   "metadata": {},
   "outputs": [
    {
     "name": "stdout",
     "output_type": "stream",
     "text": [
      "Ошибки [  1.35525272e-16   3.37546384e-16   5.60473876e-16   4.65315259e-16] ...\n"
     ]
    }
   ],
   "source": [
    "x0=np.logspace(-4,4,100,dtype=np.double)\n",
    "x=f_div_mult(x0)\n",
    "err=relative_error(x0, x)\n",
    "print(\"Ошибки\",err[:4],\"...\")"
   ]
  },
  {
   "cell_type": "markdown",
   "metadata": {},
   "source": [
    "Гораздо лучше результаты воспринимаются на картинке.\n",
    "При оценки точности мы всегда выводим относительную ошибку в логарифмической шкале."
   ]
  },
  {
   "cell_type": "code",
   "execution_count": 6,
   "metadata": {},
   "outputs": [
    {
     "name": "stdout",
     "output_type": "stream",
     "text": [
      "True\n"
     ]
    }
   ],
   "source": [
    "print(1<np.inf)"
   ]
  },
  {
   "cell_type": "code",
   "execution_count": 7,
   "metadata": {},
   "outputs": [
    {
     "data": {
      "image/png": "[encoded data removed]",
      "text/plain": [
       "<matplotlib.figure.Figure at 0x2a42e67d2e8>"
      ]
     },
     "metadata": {},
     "output_type": "display_data"
    }
   ],
   "source": [
    "def plot_error(x0,err):\n",
    "    mask=np.logical_and(err>0,err<np.inf)\n",
    "    plt.loglog(x0[mask],err[mask],\".k\")\n",
    "    plt.loglog(x0,[eps]*len(err),\"--r\") # машинная точность для сравнения\n",
    "    plt.xlabel(\"$Значение\\;аргумента$\")\n",
    "    plt.ylabel(\"$Относительная\\;погрешность$\")\n",
    "    plt.show()    \n",
    "    \n",
    "plot_error(x0,err)"
   ]
  },
  {
   "cell_type": "markdown",
   "metadata": {},
   "source": [
    "Мы видим, что погрешность в несколько раз больше машинной точности, обозначенной красной пунктирной линией, однако погрешность остается пренебрежимо малой.\n",
    "Рассмотрим другую функцию, очень похожу на предыдущую, однако теперь мы будем сначала извлекать корни, а затем возводить результат в квадрат. "
   ]
  },
  {
   "cell_type": "code",
   "execution_count": 8,
   "metadata": {
    "collapsed": true
   },
   "outputs": [],
   "source": [
    "def f_sqrt_sqr(x, n=52):\n",
    "    for k in range(n): x=np.sqrt(x)\n",
    "    for k in range(n): x=x*x\n",
    "    return x"
   ]
  },
  {
   "cell_type": "markdown",
   "metadata": {},
   "source": [
    "Проведем вычисления и построим график ошибки на том же наборе значений."
   ]
  },
  {
   "cell_type": "code",
   "execution_count": 9,
   "metadata": {},
   "outputs": [
    {
     "data": {
      "image/png": "[encoded data removed]",
      "text/plain": [
       "<matplotlib.figure.Figure at 0x2a42ecde320>"
      ]
     },
     "metadata": {},
     "output_type": "display_data"
    }
   ],
   "source": [
    "x=f_sqrt_sqr(x0)\n",
    "err=relative_error(x0, x)\n",
    "plot_error(x0, err)"
   ]
  },
  {
   "cell_type": "markdown",
   "metadata": {},
   "source": [
    "Ошибка почти 100%! \n",
    "Как такое могло произойти? \n",
    "Не возникло исключений, нет сообщений об ошибках, но результат не содержит ни одной верной цифры.\n",
    "\n",
    "Большинство людей предполагают, что причина столь большой ошибки заключается в том, что квадратный корень нельзя вычислить точно.\n",
    "Чтобы проверить это утверждение мы снова вычислим 52 квадратных корня и 52 квадрата, но изменим порядок вычислений на следующий: корень, квадрат, корень, квадрат,.."
   ]
  },
  {
   "cell_type": "code",
   "execution_count": 10,
   "metadata": {},
   "outputs": [
    {
     "data": {
      "image/png": "[encoded data removed]",
      "text/plain": [
       "<matplotlib.figure.Figure at 0x2a42ef41e80>"
      ]
     },
     "metadata": {},
     "output_type": "display_data"
    }
   ],
   "source": [
    "def f_sqrt_sqr_interleave(x, n=52):\n",
    "    for k in range(n): \n",
    "        x=np.sqrt(x)\n",
    "        x=x*x\n",
    "    return x\n",
    "\n",
    "x=f_sqrt_sqr_interleave(x0)\n",
    "err=relative_error(x0, x)\n",
    "plot_error(x0, err)"
   ]
  },
  {
   "cell_type": "markdown",
   "metadata": {},
   "source": [
    "Теперь мы получаем результат примерно с машинной точностью. \n",
    "Как можно обьяснить тот факт, что выполняя одни и те же операции в разном порядке, можно получить на много порядков отличающиеся ошибки?"
   ]
  },
  {
   "cell_type": "markdown",
   "metadata": {},
   "source": [
    "# Задание "
   ]
  },
  {
   "cell_type": "markdown",
   "metadata": {},
   "source": [
    "1. Обьясните, чем отличаются два рассмотренных примера? Почему настолько отличается точность вычислений?\n",
    "2. Предложите альтернативный способвычислений, который будет находить 52 корня из данного числа с такой точностью, что последующее возведение в квадрат 52 раза будет давать исходное число с относительной погрешностью близкой к машинной точности. "
   ]
  },
  {
   "cell_type": "markdown",
   "metadata": {},
   "source": [
    "# Указания"
   ]
  },
  {
   "cell_type": "markdown",
   "metadata": {},
   "source": [
    "1. При выполнении второго задания возникает соблазн перейти к арифметике повышенной точности, однако лучше поискать другое решение. Представьте, что вам нужно посчитать миллион корней, тогда даже повышенной точности будет недостаточно.\n",
    "2. Во втором задание требуется найти результат вычисления 52 корней с высокой точностью. Результатом является одно число. Поэтому не принимаются решения, использующие при вычислении квадратов вспомогательную информацию, сохраненную при вычислении квадратных корней (например, погрешность вычисления каждого корня)."
   ]
  },
  {
   "cell_type": "markdown",
   "metadata": {},
   "source": [
    "# Подсказка 1"
   ]
  },
  {
   "cell_type": "markdown",
   "metadata": {},
   "source": [
    "Рассмотрим приближенное значение $x$ некоторой величины $x_0$ с относительной погрешностью $\\delta$, тогда $x$ выражается через точное значение и погрешность следующим образом: $$x=x_0(1+\\delta).$$\n",
    "Рассмотрим теперь некоторую степень $\\alpha$ значения $x$:\n",
    "$$x^\\alpha=x_0^\\alpha(1+\\delta)^\\alpha\\approx x_0^\\alpha(1+\\alpha\\delta),$$\n",
    "где мы воспользовались эквивалентностью $(1+\\delta)^\\alpha\\sim 1+\\alpha\\delta$ для бесконечно малых $\\delta$.\n",
    "Второе слагаемое в скобках равно погрешностьи вычисления степени, т.е. при вычислении степени $\\alpha$ погрешность аргумента увеличивается в $\\alpha$ раз.\n",
    "Следовательно при вычислении квадратов относительная погрешность быстро увеличивается, а при вычислении квадратных корней - уменьшается."
   ]
  },
  {
   "cell_type": "markdown",
   "metadata": {},
   "source": [
    "# Подсказка 2"
   ]
  },
  {
   "cell_type": "markdown",
   "metadata": {},
   "source": [
    "Если при вычислении корней получен ответ с машинной точностью $\\epsilon$, то в результате вычисления 52 квадратов погрешность достигнет значения $2^{52}\\epsilon$, что неприемлемо. \n",
    "Следовательно нужно вычислить квадртаные корни с точностью превосходящей $\\epsilon$.\n",
    "Однако сохранить число с плавающей запятой точнее чем с половиной машинной точности нельзя, следовательно необходимо изменить представления чисел.\n",
    "Создание новой реализации чисел с плавающей запятой весьма трудоемко, поэтому создадим свою реализацию на основе имеющихся чисел с плавающей запятой, но будем хранить не само число, а некоторую функцию числа.\n",
    "Например, заметим, что при вычислении квадратного корня результат быстро стремится к 1, поэтому мы можем представлять числа в виде $x=1+\\zeta$, где $\\zeta$ мало.\n",
    "Так как числа с плавающей запятой могут выражать очень малые величины, много меньше машинной точности, то такое представление позволит повысить точность вычислений.\n",
    "При сложении $\\zeta$ с 1 результат будет округлен до 1, поэтому мы нигода не будем явно выполнять это сложение, а будем хранить только $\\zeta$.\n",
    "Однако все арифметические операции должны выполняться так, как если бы они выполнялись над $x$, а не над $\\zeta$.\n",
    "Например, так как результат перемножения $x=1+\\zeta$ и $y=1+\\eta$ равен $x\\cdot y=1+\\zeta+\\eta+\\zeta\\cdot\\eta$, то умножение на нашем представлении чисел определено не как обычное умножение, а как\n",
    "$$(\\zeta,\\eta)\\mapsto \\zeta+\\eta+\\zeta\\cdot\\eta.$$"
   ]
  },
  {
   "cell_type": "code",
   "execution_count": 11,
   "metadata": {
    "collapsed": true
   },
   "outputs": [],
   "source": [
    "# Пример собственной реализации чисел на основе чисел с плавающей запятой\n",
    "class MyNumber(object):\n",
    "    def __init__(self, zeta): \n",
    "        \"\"\"Конструктор принимает zeta, но обьект соответствует числу x=1+zeta.\"\"\"\n",
    "        self.zeta=zeta\n",
    "    def __str__(self):\n",
    "        \"\"\"На экран выводится значение x, которое может быть менее точно, \n",
    "        чем храниемое значение.\"\"\"\n",
    "        return \"{}\".format(self.to_float())\n",
    "    def from_float(x):\n",
    "        \"\"\"Создает число со значением, равным x.\"\"\"\n",
    "        return MyNumber(x-1)\n",
    "    def to_float(self):\n",
    "        \"\"\"Преобразует число в формат с плавающей запятой\"\"\"\n",
    "        return self.zeta+1    \n",
    "    def __mul__(self, other):\n",
    "        \"\"\"Перезагрузка операции умножения.\"\"\"\n",
    "        return MyNumber(self.zeta+other.zeta+self.zeta*other.zeta)\n",
    "    #def __mul__(self, other):\n",
    "    #    \"\"\"Так делать нельзя.\"\"\"\n",
    "    #    return MyNumber.from_float(self.to_float()*other.to_float())\n",
    "        "
   ]
  },
  {
   "cell_type": "code",
   "execution_count": 12,
   "metadata": {},
   "outputs": [
    {
     "name": "stdout",
     "output_type": "stream",
     "text": [
      "Число с плавающей запятой: 3.141592653589793\n",
      "Наше представление числа:  3.141592653589793\n",
      "Квадрат в арифметике с плавающей запятой: 9.869604401089358\n",
      "Квадрат в нашем представлении:            9.869604401089358\n"
     ]
    }
   ],
   "source": [
    "print(\"Число с плавающей запятой:\", np.pi)\n",
    "pi=MyNumber.from_float(np.pi)\n",
    "print(\"Наше представление числа: \", pi)\n",
    "print(\"Квадрат в арифметике с плавающей запятой:\", np.pi*np.pi)\n",
    "print(\"Квадрат в нашем представлении:           \", pi*pi)"
   ]
  },
  {
   "cell_type": "markdown",
   "metadata": {},
   "source": [
    "# Подсказка 3"
   ]
  },
  {
   "cell_type": "markdown",
   "metadata": {},
   "source": [
    "Подумайте, как еще можно было представить числа? \n",
    "Какое преобразование переводи возведение в степень в умножение?"
   ]
  },
  {
   "cell_type": "markdown",
   "metadata": {},
   "source": [
    "# Решение\n",
    "Применим логарифмирование c последующим потенцированием. В результате операции возведения в степень превратятся в умножение и деление."
   ]
  },
  {
   "cell_type": "code",
   "execution_count": 107,
   "metadata": {
    "collapsed": true
   },
   "outputs": [],
   "source": [
    "def log_power(xs, n=52):\n",
    "    \n",
    "    xs = list(xs)\n",
    "    \n",
    "    for ind, x in enumerate(xs):\n",
    "        x = math.log(x)\n",
    "        \n",
    "        x /= 2**n\n",
    "        x *= 2**n\n",
    "        \n",
    "        x = math.exp(x)\n",
    "        \n",
    "        xs[ind] = x\n",
    "    \n",
    "    return np.array(xs)"
   ]
  },
  {
   "cell_type": "code",
   "execution_count": 113,
   "metadata": {},
   "outputs": [
    {
     "data": {
      "image/png": "[encoded data removed]",
      "text/plain": [
       "<matplotlib.figure.Figure at 0x2a42eea77b8>"
      ]
     },
     "metadata": {},
     "output_type": "display_data"
    }
   ],
   "source": [
    "x_after = log_power(x0, 52)\n",
    "err = relative_error(x0, x_after)\n",
    "plot_error(x0, err)"
   ]
  },
  {
   "cell_type": "code",
   "execution_count": null,
   "metadata": {},
   "outputs": [],
   "source": []
  },
  {
   "cell_type": "code",
   "execution_count": null,
   "metadata": {
    "collapsed": true
   },
   "outputs": [],
   "source": []
  }
 ],
 "metadata": {
  "kernelspec": {
   "display_name": "Python 3",
   "language": "python",
   "name": "python3"
  },
  "language_info": {
   "codemirror_mode": {
    "name": "ipython",
    "version": 3
   },
   "file_extension": ".py",
   "mimetype": "text/x-python",
   "name": "python",
   "nbconvert_exporter": "python",
   "pygments_lexer": "ipython3",
   "version": "3.6.3"
  }
 },
 "nbformat": 4,
 "nbformat_minor": 2
}
